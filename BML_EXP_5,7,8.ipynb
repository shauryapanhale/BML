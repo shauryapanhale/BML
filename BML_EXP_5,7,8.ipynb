{
  "nbformat": 4,
  "nbformat_minor": 0,
  "metadata": {
    "colab": {
      "provenance": [],
      "authorship_tag": "ABX9TyNNX1L74P0D/GA6BzCR7l0I",
      "include_colab_link": true
    },
    "kernelspec": {
      "name": "python3",
      "display_name": "Python 3"
    },
    "language_info": {
      "name": "python"
    }
  },
  "cells": [
    {
      "cell_type": "markdown",
      "metadata": {
        "id": "view-in-github",
        "colab_type": "text"
      },
      "source": [
        "<a href=\"https://colab.research.google.com/github/shauryapanhale/BML/blob/main/BML_EXP_5%2C7%2C8.ipynb\" target=\"_parent\"><img src=\"https://colab.research.google.com/assets/colab-badge.svg\" alt=\"Open In Colab\"/></a>"
      ]
    },
    {
      "cell_type": "code",
      "execution_count": 9,
      "metadata": {
        "colab": {
          "base_uri": "https://localhost:8080/"
        },
        "id": "0UaXQZoA3nm1",
        "outputId": "5ab04e64-52f5-4741-d6b7-7f7247d2d715"
      },
      "outputs": [
        {
          "output_type": "stream",
          "name": "stdout",
          "text": [
            "Accuracy: 1.0\n"
          ]
        }
      ],
      "source": [
        "from sklearn.preprocessing import LabelEncoder\n",
        "from sklearn.tree import DecisionTreeClassifier\n",
        "from sklearn.metrics import accuracy_score\n",
        "import pandas as pd\n",
        "from sklearn.model_selection import train_test_split\n",
        "\n",
        "# Load and prepare the new dataset\n",
        "data = pd.read_csv(\"/content/Book1.csv\")\n",
        "\n",
        "# Encode categorical variables using LabelEncoder\n",
        "label_encoders = {}\n",
        "for column in data.columns:\n",
        "    if data[column].dtype == 'object':\n",
        "        le = LabelEncoder()\n",
        "        data[column] = le.fit_transform(data[column])\n",
        "        label_encoders[column] = le\n",
        "\n",
        "# Define features (X) and target (y)\n",
        "X = data.drop('play golf ', axis=1)\n",
        "y = data['play golf ']\n",
        "\n",
        "# Split the data into training and testing sets\n",
        "X_train, X_test, y_train, y_test = train_test_split(X, y, test_size=0.2, random_state=42)\n",
        "\n",
        "# Train a Decision Tree Classifier\n",
        "classifier = DecisionTreeClassifier(random_state=42)\n",
        "classifier.fit(X_train, y_train)\n",
        "\n",
        "# Make predictions\n",
        "y_pred = classifier.predict(X_test)\n",
        "\n",
        "# Calculate accuracy\n",
        "accuracy = accuracy_score(y_test, y_pred)\n",
        "\n",
        "# Display the accuracy\n",
        "print(\"Accuracy:\", accuracy)\n"
      ]
    },
    {
      "cell_type": "code",
      "source": [
        "import pandas as pd\n",
        "import numpy as np\n",
        "from sklearn.model_selection import train_test_split\n",
        "\n",
        "# Load and prepare the dataset\n",
        "data = pd.read_csv(\"/content/Book1.csv\")\n",
        "\n",
        "# Encode categorical variables using LabelEncoder\n",
        "from sklearn.preprocessing import LabelEncoder\n",
        "label_encoders = {}\n",
        "for column in data.columns:\n",
        "    if data[column].dtype == 'object':\n",
        "        le = LabelEncoder()\n",
        "        data[column] = le.fit_transform(data[column])\n",
        "        label_encoders[column] = le\n",
        "\n",
        "# Define features (X) and target (y)\n",
        "X = data.drop('play golf ', axis=1)\n",
        "y = data['play golf ']\n",
        "\n",
        "# Split the data into training and testing sets\n",
        "X_train, X_test, y_train, y_test = train_test_split(X, y, test_size=0.2, random_state=42)\n",
        "\n",
        "# Helper functions for entropy and information gain\n",
        "def entropy(y):\n",
        "    proportions = np.bincount(y) / len(y)\n",
        "    return -np.sum([p * np.log2(p) for p in proportions if p > 0])\n",
        "\n",
        "def information_gain(y, left_indices, right_indices):\n",
        "    parent_entropy = entropy(y)\n",
        "    left_entropy = entropy(y[left_indices])\n",
        "    right_entropy = entropy(y[right_indices])\n",
        "    n = len(y)\n",
        "    n_left, n_right = len(left_indices), len(right_indices)\n",
        "    weighted_entropy = (n_left / n) * left_entropy + (n_right / n) * right_entropy\n",
        "    return parent_entropy - weighted_entropy\n",
        "\n",
        "# Building the Decision Tree\n",
        "class DecisionTreeNode:\n",
        "    def __init__(self, feature=None, threshold=None, left=None, right=None, value=None):\n",
        "        self.feature = feature\n",
        "        self.threshold = threshold\n",
        "        self.left = left\n",
        "        self.right = right\n",
        "        self.value = value\n",
        "\n",
        "class DecisionTreeClassifierScratch:\n",
        "    def __init__(self, max_depth=None):\n",
        "        self.max_depth = max_depth\n",
        "        self.root = None\n",
        "\n",
        "    def fit(self, X, y):\n",
        "        self.root = self._grow_tree(X, y)\n",
        "\n",
        "    def _grow_tree(self, X, y, depth=0):\n",
        "        n_samples, n_features = X.shape\n",
        "        n_labels = len(np.unique(y))\n",
        "\n",
        "        # Stopping criteria\n",
        "        if depth >= self.max_depth or n_labels == 1 or n_samples < 2:\n",
        "            leaf_value = np.bincount(y).argmax()\n",
        "            return DecisionTreeNode(value=leaf_value)\n",
        "\n",
        "        # Find the best split\n",
        "        best_gain = -1\n",
        "        split_idx, split_threshold = None, None\n",
        "        for feature_idx in range(n_features):\n",
        "            thresholds = np.unique(X[:, feature_idx])\n",
        "            for threshold in thresholds:\n",
        "                left_indices = np.where(X[:, feature_idx] <= threshold)[0]\n",
        "                right_indices = np.where(X[:, feature_idx] > threshold)[0]\n",
        "                if len(left_indices) == 0 or len(right_indices) == 0:\n",
        "                    continue\n",
        "                gain = information_gain(y, left_indices, right_indices)\n",
        "                if gain > best_gain:\n",
        "                    best_gain = gain\n",
        "                    split_idx = feature_idx\n",
        "                    split_threshold = threshold\n",
        "\n",
        "        # Split data\n",
        "        left_indices = np.where(X[:, split_idx] <= split_threshold)[0]\n",
        "        right_indices = np.where(X[:, split_idx] > split_threshold)[0]\n",
        "        left_child = self._grow_tree(X[left_indices], y[left_indices], depth + 1)\n",
        "        right_child = self._grow_tree(X[right_indices], y[right_indices], depth + 1)\n",
        "        return DecisionTreeNode(feature=split_idx, threshold=split_threshold, left=left_child, right=right_child)\n",
        "\n",
        "    def predict(self, X):\n",
        "        return np.array([self._traverse_tree(x, self.root) for x in X])\n",
        "\n",
        "    def _traverse_tree(self, x, node):\n",
        "        if node.value is not None:\n",
        "            return node.value\n",
        "        if x[node.feature] <= node.threshold:\n",
        "            return self._traverse_tree(x, node.left)\n",
        "        return self._traverse_tree(x, node.right)\n",
        "\n",
        "# Convert training data to NumPy arrays for custom implementation\n",
        "X_train_np = X_train.values\n",
        "y_train_np = y_train.values\n",
        "X_test_np = X_test.values\n",
        "\n",
        "# Train the custom Decision Tree Classifier\n",
        "tree = DecisionTreeClassifierScratch(max_depth=3)\n",
        "tree.fit(X_train_np, y_train_np)\n",
        "\n",
        "# Make predictions\n",
        "y_pred = tree.predict(X_test_np)\n",
        "\n",
        "# Calculate accuracy\n",
        "accuracy = np.mean(y_pred == y_test.values)\n",
        "print(\"Accuracy:\", accuracy)\n"
      ],
      "metadata": {
        "colab": {
          "base_uri": "https://localhost:8080/"
        },
        "id": "1hGXJgIQ3svJ",
        "outputId": "f1cc6faf-4949-4bc6-9a3c-18548cddde1f"
      },
      "execution_count": 10,
      "outputs": [
        {
          "output_type": "stream",
          "name": "stdout",
          "text": [
            "Accuracy: 0.6666666666666666\n"
          ]
        }
      ]
    }
  ]
}